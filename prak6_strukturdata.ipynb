{
  "nbformat": 4,
  "nbformat_minor": 0,
  "metadata": {
    "colab": {
      "provenance": []
    },
    "kernelspec": {
      "name": "python3",
      "display_name": "Python 3"
    },
    "language_info": {
      "name": "python"
    }
  },
  "cells": [
    {
      "cell_type": "code",
      "execution_count": null,
      "metadata": {
        "colab": {
          "base_uri": "https://localhost:8080/"
        },
        "id": "H4fjFgM_m77l",
        "outputId": "be19a761-6051-4db9-928b-2a723c869130"
      },
      "outputs": [
        {
          "output_type": "stream",
          "name": "stdout",
          "text": [
            "deque(['Ram', 'Tarun', 'Asif', 'John'])\n",
            "deque(['Ram', 'Tarun', 'Asif', 'John', 'Akbar'])\n",
            "deque(['Ram', 'Tarun', 'Asif', 'John', 'Akbar', 'Birbal'])\n",
            "Ram\n",
            "Tarun\n",
            "deque(['Asif', 'John', 'Akbar', 'Birbal'])\n"
          ]
        }
      ],
      "source": [
        "from collections import deque\n",
        "queue = deque ([\"Ram\", \"Tarun\", \"Asif\", \"John\"])\n",
        "print (queue)\n",
        "queue.append(\"Akbar\")\n",
        "print (queue)\n",
        "queue.append(\"Birbal\")\n",
        "print (queue)\n",
        "print (queue.popleft())\n",
        "print (queue.popleft())\n",
        "print (queue)"
      ]
    },
    {
      "cell_type": "code",
      "source": [
        "def TowerOfHanoi(n, dr, menuju, bantuan) :\n",
        "  if n == 0:\n",
        "    return\n",
        "  TowerOfHanoi (n-1, dr, bantuan, menuju)\n",
        "  print(\"Pindah disk\", n, \"dari\", dr, \"ke\", menuju)\n",
        "  TowerOfHanoi (n-1, bantuan, dr, menuju)\n",
        "\n",
        "N = 3\n",
        "\n",
        "TowerOfHanoi (N, 'A', 'C', 'B')"
      ],
      "metadata": {
        "colab": {
          "base_uri": "https://localhost:8080/"
        },
        "id": "1bNqFZ57oGC2",
        "outputId": "caa05391-1492-4530-f23e-510fdd8a53a5"
      },
      "execution_count": null,
      "outputs": [
        {
          "output_type": "stream",
          "name": "stdout",
          "text": [
            "Pindah disk 1 dari A ke C\n",
            "Pindah disk 2 dari A ke B\n",
            "Pindah disk 1 dari C ke A\n",
            "Pindah disk 3 dari A ke C\n",
            "Pindah disk 1 dari B ke C\n",
            "Pindah disk 2 dari B ke A\n",
            "Pindah disk 1 dari C ke B\n"
          ]
        }
      ]
    },
    {
      "cell_type": "code",
      "source": [
        "def sortStack(input) :\n",
        "  tmpStack = []\n",
        "  while (len(input) > 0) :\n",
        "     tmp = input[-1]\n",
        "     input.pop()\n",
        "     while (len(tmpStack) > 0 and tmpStack[-1] < tmp) :\n",
        "      input.append(tmpStack[-1])\n",
        "      tmpStack.pop()\n",
        "      tmpStack.append(tmp)\n",
        "\n",
        "      return tmpStack"
      ],
      "metadata": {
        "id": "DgYSxKb2o-4d"
      },
      "execution_count": null,
      "outputs": []
    },
    {
      "cell_type": "code",
      "source": [
        "def sortArrayUsingStacks (arr, n) :\n",
        "  input = []\n",
        "  i = 0\n",
        "  while (i < n) :\n",
        "    input.append(arr[i])\n",
        "    i = i + 1\n",
        "    tmpStack = sortStack(input)\n",
        "    i = 0\n",
        "    while (i < n) :\n",
        "      arr[i] = tmpStack[-1]\n",
        "      tmpStack.pop()\n",
        "      i = i + 1\n",
        "      return arr\n",
        "      arr = [10, 5, 15, 45]\n",
        "      n = len(arr)\n",
        "\n",
        "      arr = sortArrayUsingStacks (arr, n)\n",
        "      i = 0\n",
        "\n",
        "      while (i < n) :\n",
        "        print (arr[i] ,end=\"\")\n",
        "        i = i + 1"
      ],
      "metadata": {
        "id": "H8S8NhX0pwY2"
      },
      "execution_count": null,
      "outputs": []
    },
    {
      "cell_type": "code",
      "source": [],
      "metadata": {
        "id": "Cypin0PdraP9"
      },
      "execution_count": null,
      "outputs": []
    }
  ]
}